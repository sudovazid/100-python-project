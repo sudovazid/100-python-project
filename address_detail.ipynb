{
  "nbformat": 4,
  "nbformat_minor": 0,
  "metadata": {
    "colab": {
      "name": "address_detail.ipynb",
      "provenance": [],
      "toc_visible": true,
      "authorship_tag": "ABX9TyPcFu5WiYrXJSoOyDwJOvUe",
      "include_colab_link": true
    },
    "kernelspec": {
      "name": "python3",
      "display_name": "Python 3"
    },
    "language_info": {
      "name": "python"
    }
  },
  "cells": [
    {
      "cell_type": "markdown",
      "metadata": {
        "id": "view-in-github",
        "colab_type": "text"
      },
      "source": [
        "<a href=\"https://colab.research.google.com/github/sudovazid/python-project/blob/main/address_detail.ipynb\" target=\"_parent\"><img src=\"https://colab.research.google.com/assets/colab-badge.svg\" alt=\"Open In Colab\"/></a>"
      ]
    },
    {
      "cell_type": "markdown",
      "source": [
        "# Get address detail through python code\n",
        "\n",
        "---\n",
        "\n"
      ],
      "metadata": {
        "id": "D9w2YjqgJ2cK"
      }
    },
    {
      "cell_type": "code",
      "source": [
        "\n",
        "from geopy.geocoders import Nominatim\n",
        "\n",
        "# Using NOminatim API\n",
        "\n",
        "geolocator = Nominatim(user_agent=\"geoapiExcercises\")\n",
        "\n",
        "#Zipcode input\n",
        "\n",
        "a = input(\"Enter the zipcode: \")\n",
        "zipcode = a\n",
        "\n",
        "# Using geocode()\n",
        "\n",
        "location = geolocator.geocode(zipcode)\n",
        "\n",
        "# Displaying address details\n",
        "\n",
        "print(\"Zipcode:\",zipcode)\n",
        "print(\"Details of the Zipcode:\")\n",
        "print(location)\n",
        "\n",
        "#clcoding.com"
      ],
      "metadata": {
        "colab": {
          "base_uri": "https://localhost:8080/"
        },
        "id": "u1ZyLc0QKAwD",
        "outputId": "6482575e-ce2d-4449-cc8a-5855ff375715"
      },
      "execution_count": 2,
      "outputs": [
        {
          "output_type": "stream",
          "name": "stdout",
          "text": [
            "Enter the zipcode: 306401\n",
            "Zipcode: 306401\n",
            "Details of the Zipcode:\n",
            "Pali Tehsil, Pali, Rajasthan, 306401, India\n"
          ]
        }
      ]
    }
  ]
}